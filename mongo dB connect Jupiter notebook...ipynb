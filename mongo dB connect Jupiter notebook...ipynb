{
 "cells": [
  {
   "cell_type": "code",
   "execution_count": 13,
   "id": "d4ac0730",
   "metadata": {},
   "outputs": [
    {
     "name": "stdout",
     "output_type": "stream",
     "text": [
      "Requirement already satisfied: pymongo in c:\\users\\pc\\anaconda3\\lib\\site-packages (4.3.3)\n",
      "Requirement already satisfied: dnspython<3.0.0,>=1.16.0 in c:\\users\\pc\\anaconda3\\lib\\site-packages (from pymongo) (2.3.0)\n"
     ]
    }
   ],
   "source": [
    "#pip install pymongo\n",
    "!pip install pymongo"
   ]
  },
  {
   "cell_type": "code",
   "execution_count": 14,
   "id": "c5605ea8",
   "metadata": {},
   "outputs": [],
   "source": [
    "from pymongo import MongoClient"
   ]
  },
  {
   "cell_type": "code",
   "execution_count": 15,
   "id": "dde47e1c",
   "metadata": {},
   "outputs": [],
   "source": [
    "# First create one MongoDB Client to execute any further commands.\n",
    "client = MongoClient('mongodb://localhost:27017/')"
   ]
  },
  {
   "cell_type": "code",
   "execution_count": 16,
   "id": "5eee7655",
   "metadata": {},
   "outputs": [
    {
     "data": {
      "text/plain": [
       "['admin', 'config', 'local']"
      ]
     },
     "execution_count": 16,
     "metadata": {},
     "output_type": "execute_result"
    }
   ],
   "source": [
    "# To show all database name\n",
    "client.list_database_names()"
   ]
  },
  {
   "cell_type": "code",
   "execution_count": 17,
   "id": "8e4bdfd4",
   "metadata": {},
   "outputs": [],
   "source": [
    "# Create database variable to work on any database \"demo\"\n",
    "db = client[\"demo\"]"
   ]
  },
  {
   "cell_type": "code",
   "execution_count": 18,
   "id": "261fa1af",
   "metadata": {},
   "outputs": [
    {
     "data": {
      "text/plain": [
       "[]"
      ]
     },
     "execution_count": 18,
     "metadata": {},
     "output_type": "execute_result"
    }
   ],
   "source": [
    "# To fetch all collection inside \"demo\" database\n",
    "db.list_collection_names()"
   ]
  },
  {
   "cell_type": "code",
   "execution_count": 19,
   "id": "91f5e20e",
   "metadata": {},
   "outputs": [],
   "source": [
    "collection = db[\"students\"]"
   ]
  },
  {
   "cell_type": "code",
   "execution_count": 20,
   "id": "e89693eb",
   "metadata": {},
   "outputs": [],
   "source": [
    "#Better use students variable itself\n",
    "students = db[\"students\"]"
   ]
  },
  {
   "cell_type": "code",
   "execution_count": 21,
   "id": "4c03987b",
   "metadata": {},
   "outputs": [
    {
     "data": {
      "text/plain": [
       "0"
      ]
     },
     "execution_count": 21,
     "metadata": {},
     "output_type": "execute_result"
    }
   ],
   "source": [
    "students.count_documents({})"
   ]
  },
  {
   "cell_type": "code",
   "execution_count": 22,
   "id": "e1ce2c32",
   "metadata": {},
   "outputs": [
    {
     "data": {
      "text/plain": [
       "<pymongo.results.InsertOneResult at 0x1e75d863a60>"
      ]
     },
     "execution_count": 22,
     "metadata": {},
     "output_type": "execute_result"
    }
   ],
   "source": [
    "students.insert_one({\"id\":1,\"name\":\"sunny kumart\",\"country\":\"IN\"})"
   ]
  },
  {
   "cell_type": "code",
   "execution_count": 23,
   "id": "734ec79b",
   "metadata": {},
   "outputs": [
    {
     "data": {
      "text/plain": [
       "1"
      ]
     },
     "execution_count": 23,
     "metadata": {},
     "output_type": "execute_result"
    }
   ],
   "source": [
    "students.count_documents({})"
   ]
  },
  {
   "cell_type": "code",
   "execution_count": 24,
   "id": "9b13585c",
   "metadata": {},
   "outputs": [
    {
     "data": {
      "text/plain": [
       "{'_id': ObjectId('6415c1f6ccb3993d2fbb9e7a'),\n",
       " 'id': 1,\n",
       " 'name': 'sunny kumart',\n",
       " 'country': 'IN'}"
      ]
     },
     "execution_count": 24,
     "metadata": {},
     "output_type": "execute_result"
    }
   ],
   "source": [
    "students.find_one()"
   ]
  },
  {
   "cell_type": "code",
   "execution_count": 25,
   "id": "b0cfb4c5",
   "metadata": {},
   "outputs": [],
   "source": [
    "# Multiple insert\n",
    "studentlist = [\n",
    "  { \"id\":1,\"name\":\"sunny kumar\",\"country\":\"IN\"},\n",
    "  { \"id\":2,\"name\":\"Bill Gates\",\"country\":\"US\"},\n",
    "  { \"id\":3,\"name\":\"Steve Jobs\",\"country\":\"US\"},\n",
    "  { \"id\":4,\"name\":\"Narayan Murthy\",\"country\":\"IN\"},\n",
    "  { \"id\":5,\"name\":\"Azim Premji\",\"country\":\"IN\"},\n",
    "  { \"id\":6,\"name\":\"Nandan Nilekani\",\"country\":\"IN\"},\n",
    "  { \"id\":7,\"name\":\"sundar pichai\",\"country\":\"IN\"}\n",
    "]"
   ]
  },
  {
   "cell_type": "code",
   "execution_count": 26,
   "id": "8f62be31",
   "metadata": {},
   "outputs": [
    {
     "data": {
      "text/plain": [
       "<pymongo.results.InsertManyResult at 0x1e75f5a2eb0>"
      ]
     },
     "execution_count": 26,
     "metadata": {},
     "output_type": "execute_result"
    }
   ],
   "source": [
    "students.insert_many(studentlist)"
   ]
  },
  {
   "cell_type": "code",
   "execution_count": 27,
   "id": "7061f6e2",
   "metadata": {},
   "outputs": [
    {
     "data": {
      "text/plain": [
       "8"
      ]
     },
     "execution_count": 27,
     "metadata": {},
     "output_type": "execute_result"
    }
   ],
   "source": [
    "students.count_documents({})"
   ]
  },
  {
   "cell_type": "code",
   "execution_count": 28,
   "id": "101ff474",
   "metadata": {},
   "outputs": [
    {
     "name": "stdout",
     "output_type": "stream",
     "text": [
      "{'_id': ObjectId('6415c1f6ccb3993d2fbb9e7a'), 'id': 1, 'name': 'sunny kumart', 'country': 'IN'}\n",
      "{'_id': ObjectId('6415c1f7ccb3993d2fbb9e7b'), 'id': 1, 'name': 'sunny kumar', 'country': 'IN'}\n",
      "{'_id': ObjectId('6415c1f7ccb3993d2fbb9e7c'), 'id': 2, 'name': 'Bill Gates', 'country': 'US'}\n",
      "{'_id': ObjectId('6415c1f7ccb3993d2fbb9e7d'), 'id': 3, 'name': 'Steve Jobs', 'country': 'US'}\n",
      "{'_id': ObjectId('6415c1f7ccb3993d2fbb9e7e'), 'id': 4, 'name': 'Narayan Murthy', 'country': 'IN'}\n",
      "{'_id': ObjectId('6415c1f7ccb3993d2fbb9e7f'), 'id': 5, 'name': 'Azim Premji', 'country': 'IN'}\n",
      "{'_id': ObjectId('6415c1f7ccb3993d2fbb9e80'), 'id': 6, 'name': 'Nandan Nilekani', 'country': 'IN'}\n",
      "{'_id': ObjectId('6415c1f7ccb3993d2fbb9e81'), 'id': 7, 'name': 'sundar pichai', 'country': 'IN'}\n"
     ]
    }
   ],
   "source": [
    "# Display all records\n",
    "for student in students.find():\n",
    "  print(student)"
   ]
  },
  {
   "cell_type": "code",
   "execution_count": 29,
   "id": "686b2e52",
   "metadata": {},
   "outputs": [
    {
     "name": "stdout",
     "output_type": "stream",
     "text": [
      "{'_id': ObjectId('6415c1f6ccb3993d2fbb9e7a'), 'id': 1, 'name': 'sunny kumart', 'country': 'IN'}\n",
      "{'_id': ObjectId('6415c1f7ccb3993d2fbb9e7b'), 'id': 1, 'name': 'sunny kumar', 'country': 'IN'}\n"
     ]
    }
   ],
   "source": [
    "# Display limited documents\n",
    "for student in students.find().limit(2):\n",
    "  print(student)"
   ]
  },
  {
   "cell_type": "code",
   "execution_count": 30,
   "id": "dadf79da",
   "metadata": {},
   "outputs": [
    {
     "name": "stdout",
     "output_type": "stream",
     "text": [
      "{'name': 'sunny kumart', 'country': 'IN'}\n",
      "{'name': 'sunny kumar', 'country': 'IN'}\n",
      "{'name': 'Bill Gates', 'country': 'US'}\n",
      "{'name': 'Steve Jobs', 'country': 'US'}\n",
      "{'name': 'Narayan Murthy', 'country': 'IN'}\n",
      "{'name': 'Azim Premji', 'country': 'IN'}\n",
      "{'name': 'Nandan Nilekani', 'country': 'IN'}\n",
      "{'name': 'sundar pichai', 'country': 'IN'}\n"
     ]
    }
   ],
   "source": [
    "# Show only name and country details\n",
    "for student in students.find({},{\"_id\": 0,\"name\": 1,\"country\": 1}):\n",
    "  print(student)"
   ]
  },
  {
   "cell_type": "code",
   "execution_count": 31,
   "id": "6682b91b",
   "metadata": {},
   "outputs": [
    {
     "name": "stdout",
     "output_type": "stream",
     "text": [
      "{'_id': ObjectId('6415c1f6ccb3993d2fbb9e7a'), 'id': 1, 'name': 'sunny kumart', 'country': 'IN'}\n",
      "{'_id': ObjectId('6415c1f7ccb3993d2fbb9e7b'), 'id': 1, 'name': 'sunny kumar', 'country': 'IN'}\n",
      "{'_id': ObjectId('6415c1f7ccb3993d2fbb9e7e'), 'id': 4, 'name': 'Narayan Murthy', 'country': 'IN'}\n",
      "{'_id': ObjectId('6415c1f7ccb3993d2fbb9e7f'), 'id': 5, 'name': 'Azim Premji', 'country': 'IN'}\n",
      "{'_id': ObjectId('6415c1f7ccb3993d2fbb9e80'), 'id': 6, 'name': 'Nandan Nilekani', 'country': 'IN'}\n",
      "{'_id': ObjectId('6415c1f7ccb3993d2fbb9e81'), 'id': 7, 'name': 'sundar pichai', 'country': 'IN'}\n"
     ]
    }
   ],
   "source": [
    "# Get all record country is IN\n",
    "for student in students.find({\"country\":\"IN\"}):\n",
    "  print(student)"
   ]
  },
  {
   "cell_type": "code",
   "execution_count": 32,
   "id": "e5300d97",
   "metadata": {},
   "outputs": [
    {
     "name": "stdout",
     "output_type": "stream",
     "text": [
      "{'_id': ObjectId('6415c1f7ccb3993d2fbb9e7d'), 'id': 3, 'name': 'Steve Jobs', 'country': 'US'}\n",
      "{'_id': ObjectId('6415c1f7ccb3993d2fbb9e7e'), 'id': 4, 'name': 'Narayan Murthy', 'country': 'IN'}\n",
      "{'_id': ObjectId('6415c1f7ccb3993d2fbb9e7f'), 'id': 5, 'name': 'Azim Premji', 'country': 'IN'}\n",
      "{'_id': ObjectId('6415c1f7ccb3993d2fbb9e80'), 'id': 6, 'name': 'Nandan Nilekani', 'country': 'IN'}\n",
      "{'_id': ObjectId('6415c1f7ccb3993d2fbb9e81'), 'id': 7, 'name': 'sundar pichai', 'country': 'IN'}\n"
     ]
    }
   ],
   "source": [
    "# Get all record id is more than 2\n",
    "for student in students.find({\"id\":{\"$gt\": 2}}):\n",
    "  print(student)"
   ]
  },
  {
   "cell_type": "code",
   "execution_count": 33,
   "id": "71fe34c7",
   "metadata": {},
   "outputs": [
    {
     "name": "stdout",
     "output_type": "stream",
     "text": [
      "{'_id': ObjectId('6415c1f7ccb3993d2fbb9e7c'), 'id': 2, 'name': 'Bill Gates', 'country': 'US'}\n"
     ]
    }
   ],
   "source": [
    "# Get all record name start with \"B\"\n",
    "for student in students.find({\"name\":{\"$regex\": \"^B\"}}):\n",
    "  print(student)"
   ]
  },
  {
   "cell_type": "code",
   "execution_count": 34,
   "id": "fd822e2b",
   "metadata": {},
   "outputs": [
    {
     "name": "stdout",
     "output_type": "stream",
     "text": [
      "{'_id': ObjectId('6415c1f7ccb3993d2fbb9e7f'), 'id': 5, 'name': 'Azim Premji', 'country': 'IN'}\n",
      "{'_id': ObjectId('6415c1f7ccb3993d2fbb9e7c'), 'id': 2, 'name': 'Bill Gates', 'country': 'US'}\n",
      "{'_id': ObjectId('6415c1f7ccb3993d2fbb9e80'), 'id': 6, 'name': 'Nandan Nilekani', 'country': 'IN'}\n",
      "{'_id': ObjectId('6415c1f7ccb3993d2fbb9e7e'), 'id': 4, 'name': 'Narayan Murthy', 'country': 'IN'}\n",
      "{'_id': ObjectId('6415c1f7ccb3993d2fbb9e7d'), 'id': 3, 'name': 'Steve Jobs', 'country': 'US'}\n",
      "{'_id': ObjectId('6415c1f7ccb3993d2fbb9e81'), 'id': 7, 'name': 'sundar pichai', 'country': 'IN'}\n",
      "{'_id': ObjectId('6415c1f7ccb3993d2fbb9e7b'), 'id': 1, 'name': 'sunny kumar', 'country': 'IN'}\n",
      "{'_id': ObjectId('6415c1f6ccb3993d2fbb9e7a'), 'id': 1, 'name': 'sunny kumart', 'country': 'IN'}\n"
     ]
    }
   ],
   "source": [
    "# Sort on name field\n",
    "# Display all records\n",
    "for student in students.find().sort(\"name\"):\n",
    "  print(student)"
   ]
  },
  {
   "cell_type": "code",
   "execution_count": 35,
   "id": "c07ffa11",
   "metadata": {},
   "outputs": [
    {
     "name": "stdout",
     "output_type": "stream",
     "text": [
      "6 documents updated.\n"
     ]
    }
   ],
   "source": [
    "#Update Many\n",
    "myquery = { \"country\": { \"$regex\": \"^IN\" } }\n",
    "newvalues = { \"$set\": { \"country\": \"IND\" } }\n",
    "\n",
    "result = students.update_many(myquery, newvalues)\n",
    "\n",
    "print(result.modified_count, \"documents updated.\") "
   ]
  },
  {
   "cell_type": "code",
   "execution_count": 36,
   "id": "d02589e7",
   "metadata": {},
   "outputs": [
    {
     "name": "stdout",
     "output_type": "stream",
     "text": [
      "{'_id': ObjectId('6415c1f7ccb3993d2fbb9e7f'), 'id': 5, 'name': 'Azim Premji', 'country': 'IND'}\n",
      "{'_id': ObjectId('6415c1f7ccb3993d2fbb9e7c'), 'id': 2, 'name': 'Bill Gates', 'country': 'US'}\n",
      "{'_id': ObjectId('6415c1f7ccb3993d2fbb9e80'), 'id': 6, 'name': 'Nandan Nilekani', 'country': 'IND'}\n",
      "{'_id': ObjectId('6415c1f7ccb3993d2fbb9e7e'), 'id': 4, 'name': 'Narayan Murthy', 'country': 'IND'}\n",
      "{'_id': ObjectId('6415c1f7ccb3993d2fbb9e7d'), 'id': 3, 'name': 'Steve Jobs', 'country': 'US'}\n",
      "{'_id': ObjectId('6415c1f7ccb3993d2fbb9e81'), 'id': 7, 'name': 'sundar pichai', 'country': 'IND'}\n",
      "{'_id': ObjectId('6415c1f7ccb3993d2fbb9e7b'), 'id': 1, 'name': 'sunny kumar', 'country': 'IND'}\n",
      "{'_id': ObjectId('6415c1f6ccb3993d2fbb9e7a'), 'id': 1, 'name': 'sunny kumart', 'country': 'IND'}\n"
     ]
    }
   ],
   "source": [
    "for student in students.find().sort(\"name\"):\n",
    "  print(student)"
   ]
  },
  {
   "cell_type": "code",
   "execution_count": null,
   "id": "6f52ec12",
   "metadata": {},
   "outputs": [],
   "source": []
  },
  {
   "cell_type": "code",
   "execution_count": null,
   "id": "4fcbebe9",
   "metadata": {},
   "outputs": [],
   "source": []
  }
 ],
 "metadata": {
  "kernelspec": {
   "display_name": "Python 3 (ipykernel)",
   "language": "python",
   "name": "python3"
  },
  "language_info": {
   "codemirror_mode": {
    "name": "ipython",
    "version": 3
   },
   "file_extension": ".py",
   "mimetype": "text/x-python",
   "name": "python",
   "nbconvert_exporter": "python",
   "pygments_lexer": "ipython3",
   "version": "3.9.13"
  }
 },
 "nbformat": 4,
 "nbformat_minor": 5
}
